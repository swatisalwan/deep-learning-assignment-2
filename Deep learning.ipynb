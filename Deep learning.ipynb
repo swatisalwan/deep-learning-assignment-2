{
 "cells": [
  {
   "cell_type": "code",
   "execution_count": 78,
   "metadata": {},
   "outputs": [],
   "source": [
    "import keras\n",
    "from keras.models import Sequential\n",
    "from keras.layers import Dense, Dropout, Flatten, Activation, Conv2D, MaxPooling2D, BatchNormalization\n",
    "from keras import backend as K\n",
    "import numpy as np\n",
    "import pickle\n",
    "import matplotlib.pyplot as plt\n",
    "from sklearn.metrics import classification_report, accuracy_score"
   ]
  },
  {
   "cell_type": "code",
   "execution_count": 53,
   "metadata": {},
   "outputs": [],
   "source": [
    "#Loading data"
   ]
  },
  {
   "cell_type": "code",
   "execution_count": 54,
   "metadata": {},
   "outputs": [],
   "source": [
    "with open('trainX.pickle', 'rb') as f:\n",
    "    Xtrain = pickle.load(f)\n",
    "    \n",
    "with open('trainY.pickle', 'rb') as f:\n",
    "    Ytrain = pickle.load(f)\n",
    "    \n",
    "with open('testX.pickle', 'rb') as f:\n",
    "    Xtest = pickle.load(f)"
   ]
  },
  {
   "cell_type": "code",
   "execution_count": 82,
   "metadata": {},
   "outputs": [
    {
     "data": {
      "text/plain": [
       "<matplotlib.image.AxesImage at 0x29f3d48a0b8>"
      ]
     },
     "execution_count": 82,
     "metadata": {},
     "output_type": "execute_result"
    },
    {
     "data": {
      "image/png": "[encoded data removed]",
      "text/plain": [
       "<Figure size 432x288 with 1 Axes>"
      ]
     },
     "metadata": {
      "needs_background": "light"
     },
     "output_type": "display_data"
    }
   ],
   "source": [
    "plt.imshow(Xtrain[350,:].reshape((28,28)))"
   ]
  },
  {
   "cell_type": "code",
   "execution_count": 55,
   "metadata": {},
   "outputs": [],
   "source": [
    "#Splitting dataset"
   ]
  },
  {
   "cell_type": "code",
   "execution_count": 56,
   "metadata": {},
   "outputs": [],
   "source": [
    "from sklearn.model_selection import train_test_split"
   ]
  },
  {
   "cell_type": "code",
   "execution_count": 57,
   "metadata": {},
   "outputs": [],
   "source": [
    "x_train, x_test,y_train,y_test= train_test_split(Xtrain,Ytrain,test_size=0.2,random_state=1)"
   ]
  },
  {
   "cell_type": "code",
   "execution_count": 58,
   "metadata": {},
   "outputs": [],
   "source": [
    "batch_size = 128\n",
    "num_classes = 10\n",
    "epochs =10"
   ]
  },
  {
   "cell_type": "code",
   "execution_count": 59,
   "metadata": {},
   "outputs": [],
   "source": [
    "#Scaling and preprocessing data"
   ]
  },
  {
   "cell_type": "code",
   "execution_count": 60,
   "metadata": {},
   "outputs": [
    {
     "name": "stdout",
     "output_type": "stream",
     "text": [
      "x_train shape: (48000, 28, 28)\n",
      "48000 train samples\n",
      "12000 test samples\n"
     ]
    }
   ],
   "source": [
    "x_train = x_train.astype('float32')\n",
    "x_test = x_test.astype('float32')\n",
    "x_train /= 255\n",
    "x_test /= 255\n",
    "print('x_train shape:', x_train.shape)\n",
    "print(x_train.shape[0], 'train samples')\n",
    "print(x_test.shape[0], 'test samples')\n",
    "\n",
    "# convert class vectors to binary class matrices\n",
    "y_train = keras.utils.to_categorical(y_train, num_classes)\n",
    "y_test = keras.utils.to_categorical(y_test, num_classes)"
   ]
  },
  {
   "cell_type": "code",
   "execution_count": 61,
   "metadata": {},
   "outputs": [],
   "source": [
    "#Reshaping"
   ]
  },
  {
   "cell_type": "code",
   "execution_count": 63,
   "metadata": {},
   "outputs": [
    {
     "data": {
      "text/plain": [
       "(48000, 784)"
      ]
     },
     "execution_count": 63,
     "metadata": {},
     "output_type": "execute_result"
    }
   ],
   "source": [
    "x_train = np.reshape(x_train, (48000, 784))\n",
    "x_test = np.reshape(x_test, (12000, 784))\n",
    "x_train.shape"
   ]
  },
  {
   "cell_type": "code",
   "execution_count": 64,
   "metadata": {},
   "outputs": [],
   "source": [
    "#Designing model"
   ]
  },
  {
   "cell_type": "code",
   "execution_count": 65,
   "metadata": {},
   "outputs": [
    {
     "name": "stdout",
     "output_type": "stream",
     "text": [
      "_________________________________________________________________\n",
      "Layer (type)                 Output Shape              Param #   \n",
      "=================================================================\n",
      "dense_19 (Dense)             (None, 500)               392500    \n",
      "_________________________________________________________________\n",
      "activation_19 (Activation)   (None, 500)               0         \n",
      "_________________________________________________________________\n",
      "dense_20 (Dense)             (None, 300)               150300    \n",
      "_________________________________________________________________\n",
      "activation_20 (Activation)   (None, 300)               0         \n",
      "_________________________________________________________________\n",
      "dense_21 (Dense)             (None, 10)                3010      \n",
      "_________________________________________________________________\n",
      "activation_21 (Activation)   (None, 10)                0         \n",
      "=================================================================\n",
      "Total params: 545,810\n",
      "Trainable params: 545,810\n",
      "Non-trainable params: 0\n",
      "_________________________________________________________________\n"
     ]
    }
   ],
   "source": [
    "model = Sequential()\n",
    "\n",
    "model.add(Dense(500, input_dim=784), )\n",
    "model.add(Activation('relu'))\n",
    "#model.add(Dropout(0.4))\n",
    "model.add(Dense(300))\n",
    "model.add(Activation('relu'))\n",
    "#model.add(Dropout(0.4))\n",
    "\n",
    "# model.add(Dropout(0.4))\n",
    "model.add(Dense(10))\n",
    "model.add(Activation('softmax'))\n",
    "model.summary()\n",
    "model.compile(loss=keras.losses.categorical_crossentropy,\n",
    "              optimizer=keras.optimizers.Adadelta(),\n",
    "              metrics=['accuracy'])"
   ]
  },
  {
   "cell_type": "code",
   "execution_count": 66,
   "metadata": {},
   "outputs": [],
   "source": [
    "#Fitting model"
   ]
  },
  {
   "cell_type": "code",
   "execution_count": 67,
   "metadata": {},
   "outputs": [
    {
     "name": "stdout",
     "output_type": "stream",
     "text": [
      "Train on 48000 samples, validate on 12000 samples\n",
      "Epoch 1/10\n",
      "48000/48000 [==============================] - 13s 264us/step - loss: 0.5859 - acc: 0.7873 - val_loss: 0.4245 - val_acc: 0.8455\n",
      "Epoch 2/10\n",
      "48000/48000 [==============================] - 10s 211us/step - loss: 0.4029 - acc: 0.8512 - val_loss: 0.3940 - val_acc: 0.8517\n",
      "Epoch 3/10\n",
      "48000/48000 [==============================] - 10s 208us/step - loss: 0.3548 - acc: 0.8672 - val_loss: 0.3677 - val_acc: 0.8661\n",
      "Epoch 4/10\n",
      "48000/48000 [==============================] - 11s 235us/step - loss: 0.3281 - acc: 0.8781 - val_loss: 0.3489 - val_acc: 0.8713\n",
      "Epoch 5/10\n",
      "48000/48000 [==============================] - 10s 215us/step - loss: 0.3042 - acc: 0.8850 - val_loss: 0.3208 - val_acc: 0.8795\n",
      "Epoch 6/10\n",
      "48000/48000 [==============================] - 10s 212us/step - loss: 0.2867 - acc: 0.8930 - val_loss: 0.3291 - val_acc: 0.8757\n",
      "Epoch 7/10\n",
      "48000/48000 [==============================] - 10s 208us/step - loss: 0.2698 - acc: 0.8979 - val_loss: 0.3209 - val_acc: 0.8835\n",
      "Epoch 8/10\n",
      "48000/48000 [==============================] - 11s 219us/step - loss: 0.2584 - acc: 0.9031 - val_loss: 0.3281 - val_acc: 0.8785\n",
      "Epoch 9/10\n",
      "48000/48000 [==============================] - 11s 220us/step - loss: 0.2452 - acc: 0.9068 - val_loss: 0.3041 - val_acc: 0.8879\n",
      "Epoch 10/10\n",
      "48000/48000 [==============================] - 11s 227us/step - loss: 0.2362 - acc: 0.9103 - val_loss: 0.3028 - val_acc: 0.8926\n",
      "Test loss: 0.3028025597135226\n",
      "Test accuracy: 0.8925833333333333\n"
     ]
    }
   ],
   "source": [
    "model.fit(x_train, y_train,\n",
    "          batch_size=batch_size,\n",
    "          epochs=epochs,\n",
    "          verbose=1,\n",
    "          validation_data=(x_test, y_test))\n",
    "\n",
    "score = model.evaluate(x_test, y_test, verbose=0)\n",
    "print('Test loss:', score[0])\n",
    "print('Test accuracy:', score[1])"
   ]
  },
  {
   "cell_type": "code",
   "execution_count": 68,
   "metadata": {},
   "outputs": [],
   "source": [
    "#Accuracy is 89.2"
   ]
  },
  {
   "cell_type": "code",
   "execution_count": 69,
   "metadata": {},
   "outputs": [
    {
     "name": "stderr",
     "output_type": "stream",
     "text": [
      "W0624 02:50:04.999464 12860 deprecation_wrapper.py:119] From c:\\programdata\\miniconda3\\lib\\site-packages\\keras\\backend\\tensorflow_backend.py:1834: The name tf.nn.fused_batch_norm is deprecated. Please use tf.compat.v1.nn.fused_batch_norm instead.\n",
      "\n",
      "W0624 02:50:06.088560 12860 deprecation_wrapper.py:119] From c:\\programdata\\miniconda3\\lib\\site-packages\\keras\\backend\\tensorflow_backend.py:3976: The name tf.nn.max_pool is deprecated. Please use tf.nn.max_pool2d instead.\n",
      "\n",
      "W0624 02:50:06.146398 12860 deprecation.py:506] From c:\\programdata\\miniconda3\\lib\\site-packages\\keras\\backend\\tensorflow_backend.py:3445: calling dropout (from tensorflow.python.ops.nn_ops) with keep_prob is deprecated and will be removed in a future version.\n",
      "Instructions for updating:\n",
      "Please use `rate` instead of `keep_prob`. Rate should be set to `rate = 1 - keep_prob`.\n"
     ]
    }
   ],
   "source": [
    "model = Sequential()\n",
    "im_shape = (28,28,1)\n",
    "\n",
    "model.add(Conv2D(32, (3, 3), padding=\"same\",\n",
    "input_shape=im_shape))\n",
    "model.add(Activation(\"relu\"))\n",
    "model.add(BatchNormalization(axis=-1))\n",
    "model.add(Conv2D(32, (3, 3), padding=\"same\"))\n",
    "model.add(Activation(\"relu\"))\n",
    "model.add(BatchNormalization(axis=-1))\n",
    "model.add(MaxPooling2D(pool_size=(2, 2)))\n",
    "model.add(Dropout(0.25))\n",
    "\n",
    "model.add(Conv2D(64, (3, 3), padding=\"same\"))\n",
    "model.add(Activation(\"relu\"))\n",
    "model.add(BatchNormalization(axis=-1))\n",
    "model.add(Conv2D(64, (3, 3), padding=\"same\"))\n",
    "model.add(Activation(\"relu\"))\n",
    "model.add(BatchNormalization(axis=-1))\n",
    "model.add(MaxPooling2D(pool_size=(2, 2)))\n",
    "model.add(Dropout(0.25))\n",
    "\n",
    "model.add(Flatten())\n",
    "model.add(Dense(512))\n",
    "model.add(Activation(\"relu\"))\n",
    "model.add(BatchNormalization())\n",
    "model.add(Dropout(0.5))\n",
    "\n",
    "model.add(Dense(10))\n",
    "model.add(Activation(\"softmax\"))\n",
    "\n",
    "model.compile(loss=\"categorical_crossentropy\", optimizer='adam', metrics=[\"accuracy\"])"
   ]
  },
  {
   "cell_type": "code",
   "execution_count": 75,
   "metadata": {},
   "outputs": [],
   "source": [
    "im_shape = (28,28,1)\n",
    "x_train = x_train.reshape((x_train.shape[0], 28, 28, 1))\n",
    "x_test = x_test.reshape((x_test.shape[0], 28, 28, 1))\n",
    "Xtest = Xtest.reshape((Xtest.shape[0], 28, 28, 1))\n",
    "\n",
    "x_train = x_train.astype(\"float32\") / 255.0\n",
    "x_test = x_test.astype(\"float32\") / 255.0\n",
    "Xtest = Xtest.astype(\"float32\") / 255.0"
   ]
  },
  {
   "cell_type": "code",
   "execution_count": 71,
   "metadata": {},
   "outputs": [
    {
     "name": "stdout",
     "output_type": "stream",
     "text": [
      "Train on 48000 samples, validate on 12000 samples\n",
      "Epoch 1/10\n",
      "48000/48000 [==============================] - 982s 20ms/step - loss: 0.5356 - acc: 0.8191 - val_loss: 0.3507 - val_acc: 0.8728\n",
      "Epoch 2/10\n",
      "48000/48000 [==============================] - 910s 19ms/step - loss: 0.3318 - acc: 0.8797 - val_loss: 0.2742 - val_acc: 0.8993\n",
      "Epoch 3/10\n",
      "48000/48000 [==============================] - 503s 10ms/step - loss: 0.2831 - acc: 0.8975 - val_loss: 0.2719 - val_acc: 0.8988\n",
      "Epoch 4/10\n",
      "48000/48000 [==============================] - 463s 10ms/step - loss: 0.2601 - acc: 0.9048 - val_loss: 0.2577 - val_acc: 0.9042\n",
      "Epoch 5/10\n",
      "48000/48000 [==============================] - 399s 8ms/step - loss: 0.2427 - acc: 0.9109 - val_loss: 0.2621 - val_acc: 0.9072\n",
      "Epoch 6/10\n",
      "48000/48000 [==============================] - 419s 9ms/step - loss: 0.2251 - acc: 0.9178 - val_loss: 0.2400 - val_acc: 0.9148\n",
      "Epoch 7/10\n",
      "48000/48000 [==============================] - 417s 9ms/step - loss: 0.2120 - acc: 0.9207 - val_loss: 0.2638 - val_acc: 0.9064\n",
      "Epoch 8/10\n",
      "48000/48000 [==============================] - 485s 10ms/step - loss: 0.2005 - acc: 0.9250 - val_loss: 0.2249 - val_acc: 0.9194\n",
      "Epoch 9/10\n",
      "48000/48000 [==============================] - 429s 9ms/step - loss: 0.1885 - acc: 0.9298 - val_loss: 0.2234 - val_acc: 0.9210\n",
      "Epoch 10/10\n",
      "48000/48000 [==============================] - 462s 10ms/step - loss: 0.1850 - acc: 0.9310 - val_loss: 0.3039 - val_acc: 0.8968\n",
      "Test loss: 0.3039384701624513\n",
      "Test accuracy: 0.8968333333333334\n"
     ]
    }
   ],
   "source": [
    "model.fit(x_train, y_train,\n",
    "          batch_size=batch_size,\n",
    "          epochs=epochs,\n",
    "          verbose=1,\n",
    "          validation_data=(x_test, y_test))\n",
    "\n",
    "score = model.evaluate(x_test, y_test, verbose=0)\n",
    "print('Test loss:', score[0])\n",
    "print('Test accuracy:', score[1])"
   ]
  },
  {
   "cell_type": "code",
   "execution_count": 79,
   "metadata": {},
   "outputs": [
    {
     "name": "stdout",
     "output_type": "stream",
     "text": [
      "[INFO] evaluating network...\n",
      "              precision    recall  f1-score   support\n",
      "\n",
      "           0       0.00      0.00      0.00      1166\n",
      "           1       0.00      0.00      0.00      1213\n",
      "           2       0.00      0.00      0.00      1232\n",
      "           3       0.00      0.00      0.00      1209\n",
      "           4       0.00      0.00      0.00      1159\n",
      "           5       0.10      1.00      0.18      1217\n",
      "           6       0.00      0.00      0.00      1178\n",
      "           7       0.00      0.00      0.00      1215\n",
      "           8       0.00      0.00      0.00      1178\n",
      "           9       0.00      0.00      0.00      1233\n",
      "\n",
      "    accuracy                           0.10     12000\n",
      "   macro avg       0.01      0.10      0.02     12000\n",
      "weighted avg       0.01      0.10      0.02     12000\n",
      "\n"
     ]
    },
    {
     "name": "stderr",
     "output_type": "stream",
     "text": [
      "c:\\programdata\\miniconda3\\lib\\site-packages\\sklearn\\metrics\\classification.py:1437: UndefinedMetricWarning: Precision and F-score are ill-defined and being set to 0.0 in labels with no predicted samples.\n",
      "  'precision', 'predicted', average, warn_for)\n"
     ]
    }
   ],
   "source": [
    "preds = model.predict(x_test)\n",
    " \n",
    "print(\"[INFO] evaluating network...\")\n",
    "print(classification_report(y_test.argmax(axis=1), preds.argmax(axis=1)))"
   ]
  },
  {
   "cell_type": "code",
   "execution_count": 80,
   "metadata": {},
   "outputs": [],
   "source": [
    " Predict = model.predict(Xtest)"
   ]
  },
  {
   "cell_type": "code",
   "execution_count": 83,
   "metadata": {},
   "outputs": [],
   "source": [
    "with open(\"testY.pickle\", 'wb') as f:\n",
    "  pickle.dump(Predict, f)"
   ]
  },
  {
   "cell_type": "code",
   "execution_count": null,
   "metadata": {},
   "outputs": [],
   "source": []
  }
 ],
 "metadata": {
  "kernelspec": {
   "display_name": "Python 3",
   "language": "python",
   "name": "python3"
  },
  "language_info": {
   "codemirror_mode": {
    "name": "ipython",
    "version": 3
   },
   "file_extension": ".py",
   "mimetype": "text/x-python",
   "name": "python",
   "nbconvert_exporter": "python",
   "pygments_lexer": "ipython3",
   "version": "3.7.0"
  }
 },
 "nbformat": 4,
 "nbformat_minor": 2
}
